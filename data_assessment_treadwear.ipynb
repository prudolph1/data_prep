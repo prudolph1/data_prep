{
 "cells": [
  {
   "cell_type": "code",
   "execution_count": null,
   "metadata": {},
   "outputs": [],
   "source": [
    "'''\n",
    "Author: Patrick Rudolph\n",
    "Date: 12/16/19\n",
    "Description: assess data for outliers and potential errors\n",
    "'''"
   ]
  },
  {
   "cell_type": "code",
   "execution_count": null,
   "metadata": {},
   "outputs": [],
   "source": [
    "import numpy as np\n",
    "import pandas as pd\n",
    "import matplotlib.pyplot as plt\n",
    "import seaborn as sns\n",
    "\n",
    "path = __import__('00_setup')"
   ]
  },
  {
   "cell_type": "code",
   "execution_count": null,
   "metadata": {},
   "outputs": [],
   "source": [
    "#import tread measurements\n",
    "filepath = path.input + 'dataset.xlsx'\n",
    "tread = pd.read_excel(filepath)"
   ]
  },
  {
   "cell_type": "code",
   "execution_count": null,
   "metadata": {},
   "outputs": [],
   "source": [
    "tread.shape"
   ]
  },
  {
   "cell_type": "code",
   "execution_count": null,
   "metadata": {},
   "outputs": [],
   "source": [
    "tread.columns"
   ]
  },
  {
   "cell_type": "code",
   "execution_count": null,
   "metadata": {},
   "outputs": [],
   "source": [
    "# duplicates\n",
    "tread.drop_duplicates(subset=['TestId','VehicleNumber','Branding','Insp']).shape[0] - tread.shape[0]"
   ]
  },
  {
   "cell_type": "code",
   "execution_count": null,
   "metadata": {},
   "outputs": [],
   "source": [
    "# missing values\n",
    "cols =['TestId','Branding','VehicleNumber','Axle','TirePosition','Month, Day, Year of Insp Date','RTD','Avg. Odometer','IP']\n",
    "tread[cols].isnull().sum()"
   ]
  },
  {
   "cell_type": "markdown",
   "metadata": {},
   "source": [
    "Missing values are all from 'lost or missing' records"
   ],
   "execution_count": null,
   "outputs": []
  },
  {
   "cell_type": "code",
   "execution_count": null,
   "metadata": {
    "scrolled": true
   },
   "outputs": [],
   "source": [
    "# check removals\n",
    "tread.groupby('RemovalReason')['RemovalReason'].size()"
   ]
  },
  {
   "cell_type": "markdown",
   "metadata": {},
   "source": [
    "AD: mileage is taken at time of removal, even if tire is replaced before field measurement"
   ],
   "execution_count": null,
   "outputs": []
  },
  {
   "cell_type": "code",
   "execution_count": null,
   "metadata": {},
   "outputs": [],
   "source": [
    "# vehilces per test\n",
    "tread.groupby(['TestId','Pattern'])['VehicleNumber'].nunique()"
   ]
  },
  {
   "cell_type": "markdown",
   "metadata": {},
   "source": [
    "3370 and 3380 are Sprinters<br/>\n",
    "3381 and 3382 are Promasters<br/>\n",
    "10 vehicles per tire-model combo"
   ],
   "execution_count": null,
   "outputs": []
  },
  {
   "cell_type": "code",
   "execution_count": null,
   "metadata": {
    "scrolled": true
   },
   "outputs": [],
   "source": [
    "# tires per vehicle\n",
    "tread.drop_duplicates(subset=['TestId','VehicleNumber','Branding']).groupby('VehicleNumber')['VehicleNumber'].count().sort_values(ascending = False)"
   ]
  },
  {
   "cell_type": "markdown",
   "metadata": {},
   "source": [
    "AD: only should be 4 tires per vehicle. >4 is result of mounted tire on different vehicle than specified. Can assume first measurement is where the tire should be<br/>\n",
    "Fix: overwrite mount vehicle with value from first inspection"
   ],
   "execution_count": null,
   "outputs": []
  },
  {
   "cell_type": "code",
   "execution_count": null,
   "metadata": {},
   "outputs": [],
   "source": [
    "# sort by location-vehicle-tire\n",
    "tread.sort_values(['TestId','VehicleNumber','Branding','Month, Day, Year of Insp Date'], inplace = True)"
   ]
  },
  {
   "cell_type": "code",
   "execution_count": null,
   "metadata": {},
   "outputs": [],
   "source": [
    "# reset index\n",
    "tread.reset_index(inplace = True, drop = True)"
   ]
  },
  {
   "cell_type": "code",
   "execution_count": null,
   "metadata": {},
   "outputs": [],
   "source": [
    "# create prev record fields\n",
    "tread['tread_depth_prev'] = tread['RTD'].shift(1)\n",
    "tread['odometer_prev'] = tread['Avg. Odometer'].shift(1)\n",
    "\n",
    "# differentials\n",
    "tread['treadwear'] = tread['tread_depth_prev'] - tread['RTD']\n",
    "tread['miles'] = tread['Avg. Odometer'] - tread['odometer_prev']"
   ]
  },
  {
   "cell_type": "code",
   "execution_count": null,
   "metadata": {},
   "outputs": [],
   "source": [
    "# check negative tread depths\n",
    "cond1 = (tread['TestId'] == tread['TestId'].shift(1))\n",
    "cond2 = (tread['VehicleNumber'] == tread['VehicleNumber'].shift(1))\n",
    "cond3 = (tread['Branding'] == tread['Branding'].shift(1))\n",
    "cond4 = (tread['treadwear'] < 0)\n",
    "\n",
    "tread[cond1 & cond2 & cond3 & cond4]"
   ]
  },
  {
   "cell_type": "markdown",
   "metadata": {},
   "source": [
    "AD: small negative tread measurements could result from tire variations in wear and placement of measurement<br/>\n",
    "Fix: set these to 0"
   ],
   "execution_count": null,
   "outputs": []
  },
  {
   "cell_type": "code",
   "execution_count": null,
   "metadata": {
    "scrolled": true
   },
   "outputs": [],
   "source": [
    "# check odometer is consistent for same vehicle-date\n",
    "odometer_count = tread.groupby(['VehicleNumber','Month, Day, Year of Insp Date','Avg. Odometer']).size()\n",
    "odometer_count = odometer_count.reset_index().rename(columns={0:'count'})\n",
    "odometer_count[odometer_count.duplicated(subset = ['VehicleNumber','Month, Day, Year of Insp Date'], keep = False)]"
   ]
  },
  {
   "cell_type": "markdown",
   "metadata": {},
   "source": [
    "Inconsistent odometer readings for same vehicle-date<br/>\n",
    "Lower readings appear to be from removals<br/>\n",
    "Assuming measurement was taken prior to date indicated, no fix needed"
   ],
   "execution_count": null,
   "outputs": []
  },
  {
   "cell_type": "code",
   "execution_count": null,
   "metadata": {},
   "outputs": [],
   "source": [
    "# first record flag\n",
    "cond1 = (tread['TestId'] != tread['TestId'].shift(1))\n",
    "cond2 = (tread['VehicleNumber'] != tread['VehicleNumber'].shift(1))\n",
    "cond3 = (tread['Branding'] != tread['Branding'].shift(1))\n",
    "\n",
    "first_record = (cond1 | cond2 | cond3)"
   ]
  },
  {
   "cell_type": "code",
   "execution_count": null,
   "metadata": {},
   "outputs": [],
   "source": [
    "# descreasing odometer\n",
    "pd.options.display.max_columns = None\n",
    "cond1 = (tread['Avg. Odometer'] < tread['Avg. Odometer'].shift(1))\n",
    "tread.loc[(~first_record & cond1)]"
   ]
  },
  {
   "cell_type": "markdown",
   "metadata": {},
   "source": [
    "Odometer went down<br/>\n",
    "Later date and lower tread depths, so assuming error<br/>\n",
    "Fix: set to missing"
   ],
   "execution_count": null,
   "outputs": []
  },
  {
   "cell_type": "code",
   "execution_count": null,
   "metadata": {},
   "outputs": [],
   "source": [
    "# check odometer = 0\n",
    "tread[tread['Avg. Odometer'] == 0]"
   ]
  },
  {
   "cell_type": "markdown",
   "metadata": {},
   "source": [
    "Record from misassigned vehcile at mount<br/>\n",
    "Inspection 1 appears to have correct mount odometer<br/>\n",
    "Fix: overwrite odometer at inspection 0 with mount odometer value of inspection 1"
   ],
   "execution_count": null,
   "outputs": []
  },
  {
   "cell_type": "code",
   "execution_count": null,
   "metadata": {},
   "outputs": [],
   "source": [
    "# set first values to 0\n",
    "tread.loc[first_record, 'miles'] = 0\n",
    "tread.loc[first_record, 'treadwear'] = 0"
   ]
  },
  {
   "cell_type": "code",
   "execution_count": null,
   "metadata": {},
   "outputs": [],
   "source": [
    "# cumulative miles and wear\n",
    "tread['cuml_miles'] = tread.groupby(['TestId','VehicleNumber','Branding'], as_index = False)['miles'].cumsum()\n",
    "tread['cuml_treadwear'] = tread.groupby(['TestId','VehicleNumber','Branding'], as_index = False)['treadwear'].cumsum()"
   ]
  },
  {
   "cell_type": "code",
   "execution_count": null,
   "metadata": {},
   "outputs": [],
   "source": [
    "metrics = ['RTD','Avg. Odometer','IP','treadwear','miles','cuml_miles','cuml_treadwear']\n",
    "for metric in metrics:\n",
    "    print(metric)\n",
    "    print(tread[metric].describe())\n",
    "    tread[metric].hist()\n",
    "    plt.show()"
   ]
  },
  {
   "cell_type": "markdown",
   "metadata": {},
   "source": [
    "Outlier: pressure = 728<br/>\n",
    "Pressure = 0, values are all for removals<br/>\n",
    "Fix: set values over 150 or 0 to missing"
   ],
   "execution_count": null,
   "outputs": []
  },
  {
   "cell_type": "code",
   "execution_count": null,
   "metadata": {},
   "outputs": [],
   "source": [
    "tread.plot(figsize = (15,5), x = 'miles', y = 'treadwear', kind = 'scatter');"
   ]
  },
  {
   "cell_type": "code",
   "execution_count": null,
   "metadata": {},
   "outputs": [],
   "source": [
    "tread.plot(figsize = (15,5), x = 'cuml_miles', y = 'RTD', kind = 'scatter');"
   ]
  },
  {
   "cell_type": "code",
   "execution_count": null,
   "metadata": {},
   "outputs": [],
   "source": [
    "tread.plot(figsize = (15,5), x = 'cuml_miles', y = 'cuml_treadwear', kind = 'scatter');"
   ]
  }
 ],
 "metadata": {
  "kernelspec": {
   "display_name": "Python 3",
   "language": "python",
   "name": "python3"
  },
  "language_info": {
   "codemirror_mode": {
    "name": "ipython",
    "version": 3
   },
   "file_extension": ".py",
   "mimetype": "text/x-python",
   "name": "python",
   "nbconvert_exporter": "python",
   "pygments_lexer": "ipython3",
   "version": "3.7.4-final"
  }
 },
 "nbformat": 4,
 "nbformat_minor": 2
}